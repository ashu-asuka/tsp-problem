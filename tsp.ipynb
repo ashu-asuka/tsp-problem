{
 "cells": [
  {
   "cell_type": "code",
   "execution_count": null,
   "metadata": {},
   "outputs": [],
   "source": [
    "import numpy as np\n",
    "from IPython.display import HTML\n",
    "import random\n",
    "\n",
    "import pandas as pd\n",
    "from pyproj import Geod\n"
   ]
  },
  {
   "cell_type": "code",
   "execution_count": null,
   "metadata": {},
   "outputs": [],
   "source": [
    "# latitude and longtitude of each place\n",
    "# pos_list = [\n",
    "#     [43.06417, 141.34694, \"Sapporo\"], \n",
    "#     [38.26889, 140.87194, \"Sendai\"], \n",
    "#     [36.59444, 136.62556, \"Kanazawa\"], \n",
    "#     [35.68944, 139.69167, \"Tokyo\"], \n",
    "#     [35.18028, 136.90667, \"Nagoya\"]\n",
    "# ]\n",
    "departure = [[40.6643, -73.9385, \"New York\"]] #departure\n",
    "pos_list = [\n",
    "    [38.9041, -77.0171, \"Washington\"], \n",
    "    [42.332, -71.0202, \"Boston\"],\n",
    "    [45.4208, -75.6945, \"Otawwa\"],\n",
    "    [43.7166, -79.3407, \"Tront\"], \n",
    "    [46.8127, -71.2199, \"Quebec\"]\n",
    "]\n",
    "point_num = len(pos_list)\n",
    "\n",
    "# agents\n",
    "agents = [\"Agent1\", \"Agent2\"]\n",
    "agent_num = len(agents)"
   ]
  },
  {
   "cell_type": "code",
   "execution_count": null,
   "metadata": {},
   "outputs": [],
   "source": [
    "import folium\n",
    "\n",
    "# function to show results on a map\n",
    "def visualize(df):\n",
    "    # map size\n",
    "    f = folium.Figure(width=600, height=600)\n",
    "\n",
    "    # create the map with center latitude and longtitude\n",
    "    center_lat = 40.000\n",
    "    center_log = -75.000\n",
    "    map = folium.Map(location=[center_lat,center_log], zoom_start=5)\n",
    "\n",
    "    # put pins on the map\n",
    "    for pos in pos_list:\n",
    "        folium.Marker([pos[0], pos[1]], popup=pos[2]).add_to(map)\n",
    "        \n",
    "    # the order of the places to visit\n",
    "    order_list = []\n",
    "    for i in range(point_num):\n",
    "        for j in range(point_num):\n",
    "            if df[i][j] == 1:\n",
    "                order_list.append(j)\n",
    "\n",
    "    # draw a line between two places depending on the order\n",
    "    for i in range(-1, len(order_list)-1):\n",
    "        folium.PolyLine(locations=[pos_list[order_list[i]][:2], pos_list[order_list[i+1]][:2]],\n",
    "                        weight=3,color='#4169e1').add_to(map)\n",
    "    f.add_child(map)\n",
    "    return f"
   ]
  },
  {
   "cell_type": "code",
   "execution_count": null,
   "metadata": {},
   "outputs": [],
   "source": [
    "# function to calculate distance from latitude and longtitude\n",
    "def calc_distance(point_x1, point_y1, point_x2, point_y2):\n",
    "    g = Geod(ellps='WGS84')\n",
    "    # get angles and a distance between two places\n",
    "    angle_1, angle_2, distance = g.inv(point_x1, point_y1, point_x2, point_y2)\n",
    "    distance /= 1000\n",
    "    return distance"
   ]
  },
  {
   "cell_type": "code",
   "execution_count": null,
   "metadata": {},
   "outputs": [],
   "source": [
    "from pyqubo import solve_qubo, Array, Placeholder\n",
    "\n",
    "# create spins\n",
    "x = Array.create('x', shape=(agent_num, point_num), vartype='BINARY')"
   ]
  },
  {
   "cell_type": "code",
   "execution_count": null,
   "metadata": {},
   "outputs": [],
   "source": [
    "# caluculate distance from departure\n",
    "pos_len = []\n",
    "distance_dict = {}\n",
    "for i in range(point_num):\n",
    "    distance = calc_distance(pos_list[0][1], pos_list[0][0], pos_list[i][1], pos_list[i][0])\n",
    "    distance_dict[i] = distance\n",
    "\n",
    "print(distance_dict)"
   ]
  },
  {
   "cell_type": "code",
   "execution_count": null,
   "metadata": {},
   "outputs": [],
   "source": [
    "import itertools\n",
    "# combination of two places\n",
    "combinations = [(i,j) for i,j in itertools.product(range(point_num), repeat=2) if i != j]\n",
    "\n",
    "H1 = 0\n",
    "\n",
    "# roup of each agent\n",
    "for a in range(agent_num):\n",
    "    for p in range(point_num):\n",
    "        H1 += distance_dict[p] * x[a, p]\n",
    "    "
   ]
  },
  {
   "cell_type": "code",
   "execution_count": null,
   "metadata": {},
   "outputs": [],
   "source": [
    "# Only one place is visited at a time\n",
    "H2 = 0\n",
    "for j in range(point_num):\n",
    "    H2_1 = 0\n",
    "    for i in range(point_num):\n",
    "        H2_1 += x[a,p]\n",
    "    H2 += (H2_1 - 1) **2"
   ]
  },
  {
   "cell_type": "code",
   "execution_count": null,
   "metadata": {},
   "outputs": [],
   "source": [
    "# Each agent visits one place only once\n",
    "H3 = 0\n",
    "for a in range(agent_num):\n",
    "    H3_1 = 0\n",
    "    for j in range(point_num):\n",
    "        H3_1 += x[a, j]\n",
    "    H3 += (H3_1 -1)**2"
   ]
  },
  {
   "cell_type": "code",
   "execution_count": null,
   "metadata": {},
   "outputs": [],
   "source": [
    "H = Placeholder('param_1') * H1 + Placeholder('param_2') * H2 + Placeholder('param_3') * H3\n",
    "\n",
    "model = H.compile()\n",
    "feed_dict = {'param_1': 0.001, 'param_2': 1.5, 'param_3': 1.5}\n",
    "qubo, offset = model.to_qubo(feed_dict=feed_dict)"
   ]
  },
  {
   "cell_type": "code",
   "execution_count": null,
   "metadata": {},
   "outputs": [],
   "source": [
    "# D-Wave\n",
    "import dimod\n",
    "from dwave.system.samplers import DWaveSampler\n",
    "from dwave.system.composites import EmbeddingComposite\n",
    "\n",
    "# setting for D-Wave\n",
    "bqm = dimod.BQM(qubo, 'BINARY')\n",
    "\n",
    "# token = xxxxx\n",
    "# endpoint = xxxxx\n",
    "\n",
    "# sampling\n",
    "dw_sampler = DWaveSampler(solver='Advantage2_prototype2.5', token=token, endpoint=endpoint)\n",
    "sampler = EmbeddingComposite(dw_sampler)\n",
    "response = sampler.sample(bqm, num_reads=100)\n"
   ]
  },
  {
   "cell_type": "code",
   "execution_count": null,
   "metadata": {},
   "outputs": [],
   "source": [
    "# # show results\n",
    "# for sample, energy in response.data(['sample', 'energy']):\n",
    "#     print(sample, 'Energy', energy)"
   ]
  },
  {
   "cell_type": "code",
   "execution_count": null,
   "metadata": {},
   "outputs": [],
   "source": [
    "decoded_sampleset = model.decode_sampleset(response, feed_dict=feed_dict)\n",
    "best_sample = min(decoded_sampleset, key=lambda s: s.energy)\n",
    "# print(best_sample)"
   ]
  },
  {
   "cell_type": "code",
   "execution_count": null,
   "metadata": {},
   "outputs": [],
   "source": [
    "# create a list to show the result\n",
    "list1 = []\n",
    "for j in range(point_num):\n",
    "    list2 = []\n",
    "    for i in range(point_num):\n",
    "        list2.append(best_sample.sample[f'x[{i}][{j}]'])\n",
    "    list1.append(list2)"
   ]
  },
  {
   "cell_type": "code",
   "execution_count": null,
   "metadata": {},
   "outputs": [],
   "source": [
    "# print the result\n",
    "df = pd.DataFrame(list1)\n",
    "index_list = []\n",
    "for l in pos_list:\n",
    "    index_list.append(l[2])\n",
    "df.index = index_list\n",
    "print(df)"
   ]
  },
  {
   "cell_type": "code",
   "execution_count": null,
   "metadata": {},
   "outputs": [],
   "source": [
    "#  visualize the result\n",
    "visualize(df)"
   ]
  }
 ],
 "metadata": {
  "kernelspec": {
   "display_name": "Python 3",
   "language": "python",
   "name": "python3"
  },
  "language_info": {
   "codemirror_mode": {
    "name": "ipython",
    "version": 3
   },
   "file_extension": ".py",
   "mimetype": "text/x-python",
   "name": "python",
   "nbconvert_exporter": "python",
   "pygments_lexer": "ipython3",
   "version": "3.9.13"
  }
 },
 "nbformat": 4,
 "nbformat_minor": 2
}
